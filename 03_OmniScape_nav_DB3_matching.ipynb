{
 "cells": [
  {
   "cell_type": "code",
   "execution_count": null,
   "metadata": {},
   "outputs": [],
   "source": [
    "# 引入第三方包\n",
    "from pprint import pprint\n",
    "import os,json\n",
    "import pandas as pd\n",
    "import pickle, json\n",
    "from tqdm import tqdm,trange\n",
    "import numpy as np\n",
    "from matplotlib import pyplot as plt\n",
    "from scipy import interpolate\n",
    "import torch\n",
    "import math\n",
    "# 屏蔽warning\n",
    "import warnings\n",
    "warnings.filterwarnings(\"ignore\",category=DeprecationWarning)\n",
    "\n",
    "# 数据合规性检查\n",
    "from OmniScape_nav_lint import *\n",
    "lint = OmniScapeNavLint()\n",
    "\n",
    "# from msgRegister import *\n",
    "# gravity_acceleration (float): 重力加速度的值，用于单位转换。\n",
    "# degree_to_rad (float): 度到弧度的转换系数，用于角速度单位转换。\n",
    "\n",
    "gravity_acceleration = 9.8066\n",
    "degree_to_rad = math.pi/180"
   ]
  },
  {
   "cell_type": "code",
   "execution_count": null,
   "metadata": {},
   "outputs": [],
   "source": [
    "# DataReader Utils\n",
    "def llh2map(llh,p0):\n",
    "    \"\"\"\n",
    "    将经纬高坐标(LLH)转换为局部地图坐标系\n",
    "    \n",
    "    参数:\n",
    "    llh: 包含纬度(lat)、经度(lon)和高度(alt)的列表或数组\n",
    "    p0: 参考点的经纬高坐标，作为局部坐标系的原点\n",
    "    \n",
    "    返回:\n",
    "    result: 转换后的局部坐标，相对于参考点p0的偏移量(x,y,z)\n",
    "    \"\"\"\n",
    "    scale = None  # 比例因子，用于经度方向的投影校正\n",
    "    origin = None  # 原点坐标\n",
    "    [lat0,lon0,alt0] = p0  # 解析参考点坐标\n",
    "    [lat,lon,alt] = llh  # 解析目标点坐标\n",
    "    if scale is None:\n",
    "        # 计算比例因子，基于参考纬度的余弦值\n",
    "        scale = np.cos(lat0 * np.pi / 180.)\n",
    "    er = 6378137.  # 地球半径(米)\n",
    "    if origin is None:\n",
    "        # 计算参考点在墨卡托投影下的坐标\n",
    "        tx0 = scale * lon0 * np.pi * er / 180.  # 参考点x坐标\n",
    "        ty0 = scale * er * np.log(np.tan((90. + lat0) * np.pi / 360.))  # 参考点y坐标\n",
    "        tz0 = alt0  # 参考点z坐标(高度)\n",
    "        t0 = np.array([tx0, ty0, tz0])\n",
    "        origin = t0  # 设置原点\n",
    "        origin[-1] = 0\n",
    "    # 计算目标点在墨卡托投影下的坐标\n",
    "    tx = scale * lon * np.pi * er / 180.  # 目标点x坐标\n",
    "    ty = scale * er * np.log(np.tan((90. + lat) * np.pi / 360.))  # 目标点y坐标\n",
    "    tz = alt  # 目标点z坐标(高度)\n",
    "    t = np.array([tx, ty, tz])\n",
    "    result = t - origin  # 计算相对于原点的偏移量\n",
    "    return result\n",
    "\n",
    "def secNanosec2sec(sec,nanosec):\n",
    "    return sec + nanosec/1e9\n",
    "\n",
    "\n",
    "def timeseriesDataInterpolation(srcTS,srcData,tgtTS):\n",
    "    # zero-dim插值：\n",
    "    # 输入：原序列A时间戳，原序列A数据，目标序列B时间戳\n",
    "    # 功能：对原序列A数据从原序列A时间戳向目标序列B时间戳进行zero-dim插值，得到目标序列B数据\n",
    "    # 输出：目标序列B数据\n",
    "    # filter tgtTs>min(srcTS) and tgtTs<max(srcTS)\n",
    "    tgtTSinter = tgtTS[(tgtTS>=min(srcTS)) & (tgtTS<=max(srcTS))]\n",
    "    f = interpolate.interp1d(srcTS, srcData, kind='zero')\n",
    "    tgtData = f(tgtTSinter)\n",
    "    # 对于tgtTSinter中不在srcTS中的数据，统计前：(tgtTS>=min(srcTS)) 个数，在tgtData前补齐\n",
    "    # 对于tgtTSinter中不在srcTS中的数据，统计后：(tgtTS<=max(srcTS)) 个数，在tgtData后补齐\n",
    "    # frontPadLength = 前：(tgtTS>=min(srcTS)) 个数\n",
    "    # backPadLength = 后：(tgtTS<=max(srcTS)) 个数\n",
    "    # print(\"前长度：\",len(tgtData))\n",
    "    frontPadLength = np.sum(tgtTS < min(srcTS))\n",
    "    backPadLength = np.sum(tgtTS > max(srcTS))\n",
    "    tgtData = np.pad(tgtData, (frontPadLength, backPadLength), mode='edge')\n",
    "    # print(\"后长度：\",len(tgtData),\"补充：\",frontPadLength,backPadLength)\n",
    "    return tgtTSinter,tgtData\n",
    "\n",
    "# def flagDataMatch(srcTS,srcData,tgtTS):# 以固定距离为阈值，对非插值flag置1\n",
    "#     print(\"trange for 对非插值flag置1\")\n",
    "#     UTCIdxLast = 0\n",
    "#     srcFlag = srcData.copy()\n",
    "#     for imuIdx in trange(len(tgtTS)):\n",
    "#         if imuIdx >= len(srcData): break\n",
    "#         srcData[imuIdx] = 0\n",
    "#         for UTCIdx in range(UTCIdxLast,len(srcTS)):\n",
    "#             imuT,utcT = tgtTS[imuIdx],srcTS[UTCIdx]\n",
    "#             # if abs(imuT-utcT)<1/10 and srcFlag[imuIdx] > 0:\n",
    "#             if abs(imuT-utcT)<1/100/3 : # and srcFlag[imuIdx] > 0:\n",
    "#                 srcData[imuIdx] = 1\n",
    "#                 UTCIdxLast = UTCIdx\n",
    "#                 # print(UTCIdxLast)\n",
    "#                 break\n",
    "#             if utcT-imuT > 1:\n",
    "#                 # print(utcT-imuT)\n",
    "#                 break\n",
    "#     return srcData\n",
    "\n",
    "def flagDataMatch(srcTS,srcData,tgtTS):\n",
    "    print(\"trange for 对非插值flag置1\")\n",
    "    UTCIdxLast = 0\n",
    "    srcFlag = srcData.copy()\n",
    "    for srcTSItemIndex in trange(len(srcTS)):\n",
    "        # 在tgtTS中找srcTSItem的最近值，给出srcTSItem的索引matchIndex，并把srcData[matchIndex]置1\n",
    "        matchIndex = np.argmin(np.abs(tgtTS - srcTS[srcTSItemIndex]))\n",
    "        srcData[matchIndex] = 1\n",
    "        # print(srcTSItemIndex,srcTS[srcTSItemIndex],matchIndex)\n",
    "    return srcData\n",
    "def secNanosec2sec(sec,nanosec):\n",
    "    return sec + nanosec/1e9\n",
    "def imgFileName2timeStamp(imgFileName):\n",
    "    return float(imgFileName.split(\" \")[-1][:-4])\n",
    "def timeseriesDataInterpolationStr(srcTS,srcData,tgtTS):\n",
    "    \"\"\"\n",
    "    对源时间序列数据进行插值，生成目标时间序列对应的数据\n",
    "    \n",
    "    参数:\n",
    "    srcTS: 源时间序列数组\n",
    "    srcData: 源数据数组\n",
    "    tgtTS: 目标时间序列数组\n",
    "    \n",
    "    返回:\n",
    "    tgtTSinter: 插值后的目标时间序列\n",
    "    tgtData: 插值后的目标数据\n",
    "    flag: 标记数组,1表示该时刻有原始数据,0表示插值数据\n",
    "    \"\"\"\n",
    "    # 截取目标时间序列在源时间序列范围内的部分\n",
    "    tgtTSinter = tgtTS[(tgtTS>=min(srcTS)) & (tgtTS<=max(srcTS))]\n",
    "    \n",
    "    # 对每个目标时间点,找到最近的源数据点\n",
    "    tgtData = []\n",
    "    for tgtTSItem in tqdm(tgtTSinter):\n",
    "        # 找到最近的源数据点索引\n",
    "        closestIndex = np.argmin(np.abs(srcTS - tgtTSItem))\n",
    "        tgtData.append(srcData[closestIndex])\n",
    "        \n",
    "    # 计算需要在前后补充的数据长度\n",
    "    frontPadLength = np.sum(tgtTS < min(srcTS))  # 前面需要补充的长度\n",
    "    backPadLength = np.sum(tgtTS > max(srcTS))   # 后面需要补充的长度\n",
    "    # print(\"对齐长度前,\",len(tgtData))\n",
    "    # 在数据前后进行补充,使用首尾数据进行填充\n",
    "    tgtData = [tgtData[0]]*frontPadLength+tgtData+[tgtData[-1]]*backPadLength\n",
    "    \n",
    "    # print(\"对齐时间序列长度\",len(tgtTS))\n",
    "    \n",
    "    # print(\"对齐长度后,\",len(tgtData))\n",
    "    # 初始化标记数组,用于标记原始数据点\n",
    "    flag = np.zeros(len(tgtTS))\n",
    "    \n",
    "    # 对每个源时间点,在目标时间序列中找到最近点并标记\n",
    "    for srcTSItem in tqdm(srcTS):\n",
    "        matchIndex = np.argmin(np.abs(tgtTS - srcTSItem))\n",
    "        flag[matchIndex] = 1\n",
    "\n",
    "    return tgtTSinter,tgtData,flag\n",
    "    \n"
   ]
  },
  {
   "cell_type": "code",
   "execution_count": null,
   "metadata": {},
   "outputs": [],
   "source": [
    "with open(\"name.ros_pickle\",\"rb\") as f:\n",
    "    rosPickle = pickle.load(f)\n",
    "rosPickle.keys()\n",
    "for k,v in rosPickle.items():\n",
    "    if isinstance(v, dict):\n",
    "        print(f\"{k}: 字典类型，包含 {len(v)} 个键值对\")\n",
    "    elif isinstance(v, list):\n",
    "        print(f\"{k}: 列表类型，长度为 {len(v)}\")\n",
    "    elif isinstance(v, str):\n",
    "        print(f\"{k}: 字符串类型，长度为 {len(v)}\")\n",
    "    elif isinstance(v, np.ndarray):\n",
    "        print(f\"{k}: numpy数组类型，形状为 {v.shape}\")\n",
    "    else:\n",
    "        print(f\"{k}: {type(v)}类型，值为 {v}\")\n"
   ]
  },
  {
   "cell_type": "markdown",
   "metadata": {},
   "source": [
    "*.omni_pickle是一个包含传感器数据和处理后数据的字典，用于导航和定位应用。以下是对各变量的详细分析：\n",
    "| 变量名 | 维度 | 维度意义 | 单位及含义 |\n",
    "|-------|------|---------|-----------|\n",
    "| t | [N] | 时间序列数组 | 浮点数，秒(s)，表示数据点的时间戳，是实际时间戳与t0的差 |\n",
    "| p_gt | [N, 3] | 位置真值数组，每行包含3个坐标值 | ENU (East-North-Up) 坐标系下的位置|\n",
    "| ang_gt | [N, 3] | 角度真值数组，每行包含3个角度值 | 弧度(rad)，表示roll(横滚)、pitch(俯仰)、yaw(偏航)角 |\n",
    "| v_gt | [N, 3] | 速度真值数组，每行包含3个速度分量 | 米/秒(m/s)，ENU坐标系下的速度分量 |\n",
    "| u | [N, 6] | IMU测量数据，每行包含6个传感器值 | 前3列为角速度(rad/s)，后3列为加速度(m/s²) |\n",
    "| name | 标量字符串 | 数据集名称 | 字符串，表示当前数据集 |\n",
    "| t0 | [1] | 初始时间戳 | 秒(s)，表示数据序列的起始时间 |\n",
    "| p0 | [3] | 初始位置 | 度(deg)，表示初始纬度、经度、高程坐标 |\n",
    "| gnss | [N, 5] | GNSS测量数据 | 前3列为ENU坐标(m)，第4列为卫星数量，第5列为有效标志 |\n",
    "| gnss_feature | list[dict] | GNSS特征数据 | 包含时间、卫星数量等信息的字典列表 |\n",
    "| gnss_feature_tensor | [N, 15] | GNSS特征的张量表示 | 包含卫星信号强度、位置精度等多种特征 |\n",
    "| img_path | list[dict{\"sensor\":\"xxx\",\"path\":list[[path,flag],[path,flag],...]}] | GNSS特征的张量表示 | 包含卫星信号强度、位置精度等多种特征 |\n",
    "\n",
    "\n",
    "详细说明：\n",
    "1. 时间相关变量：\n",
    "    - t：表示每个数据点的时间戳，按顺序记录整个轨迹\n",
    "    - t0：初始时间点，作为参考时间\n",
    "2. 位置与姿态变量：\n",
    "    - p_gt：Ground Truth位置，在ENU坐标系下，表示东、北、上三个方向的坐标\n",
    "    - ang_gt：Ground Truth角度，记录车辆或设备的姿态角\n",
    "    - p0：初始位置的经纬度坐标和海拔高度\n",
    "3. 运动学变量：\n",
    "    - v_gt：Ground Truth速度，表示ENU坐标系下的速度分量\n",
    "4. 传感器数据：\n",
    "    - u：IMU传感器数据，包括陀螺仪测量的角速度和加速度计测量的线性加速度\n",
    "    - gnss：GNSS接收机数据，包含位置和状态信息\n",
    "    - gnss_feature与gnss_feature_tensor：GNSS的扩展特征数据，用于深度学习模型训练\n",
    "      - 1、可见卫星数量 VSR_feature\n",
    "      - 2、载噪比>30的可见卫星数量VSR_cn0_feature\n",
    "      - 3、高度角<45的可见卫星数量VSR_ele_feature\n",
    "      - 4、平均载噪比 mean_cn0\n",
    "      - 5、载噪比的标准差std_cn0\n",
    "      - 6、uq_载噪比(upper quartile 四分位数)up_qu_cn0\n",
    "      - 7、lq_载噪比(lower quartile 四分位数)low_qu_cn0\n",
    "      - 8、载噪比（elev<30）?cn0_elev<30\n",
    "      - 9、mean_MP\n",
    "      - 10、range_MP\n",
    "      - 11、mean_MP（elev<60）\n",
    "      - 12、平均高度角 mean_elev\n",
    "      - 13、高度角标准差 std_elev\n",
    "      - 14、GDOP\n",
    "      - 15、VDOP"
   ]
  },
  {
   "cell_type": "code",
   "execution_count": null,
   "metadata": {},
   "outputs": [],
   "source": [
    "# with open(\"../AI-IMU-DR-dataMatching/1_UrbanNav-HK-Medium-Urban.p\",\"rb\") as f:\n",
    "#     demoPickle = pickle.load(f)\n",
    "# demoPickle.keys()\n",
    "# for k,v in demoPickle.items():\n",
    "#     # print(type(v))\n",
    "#     if isinstance(v, torch.Tensor):\n",
    "#         print(k, v.shape)\n",
    "#     else:\n",
    "#         print(k, type(v))"
   ]
  },
  {
   "cell_type": "code",
   "execution_count": null,
   "metadata": {},
   "outputs": [],
   "source": [
    "mondict = {}"
   ]
  },
  {
   "cell_type": "code",
   "execution_count": null,
   "metadata": {},
   "outputs": [],
   "source": [
    "mondict[\"t0\"] = secNanosec2sec(rosPickle['Base'][0]['stamp_sec'],rosPickle['Base'][0]['stamp_nanosec'])\n",
    "mondict[\"t\"] =  [secNanosec2sec(item['stamp_sec'],item['stamp_nanosec']) for item in rosPickle['Base']]\n",
    "mondict[\"ang_gt\"] =  [[item['fpd_gnssroll'],item['fpd_gnsspitch'],item['fpd_gnssheading']] for item in rosPickle['Base']]\n",
    "mondict[\"llh_gt\"] =  [[item['fpd_gnsslatitude'],item['fpd_gnsslongitude'],item['fpd_gnssaltitude']] for item in rosPickle['Base']]\n",
    "mondict[\"v_gt\"] =  [[item['fpd_gnssve'],item['fpd_gnssvn'],item['fpd_gnssvu']] for item in rosPickle['Base']]\n",
    "mondict[\"u\"] =  [[  item['angular_velocity_x'],item['angular_velocity_y'],item['angular_velocity_z'],item['linear_acceleration_x'],\n",
    "                    item['linear_acceleration_y'],item['linear_acceleration_z']] for item in rosPickle['IMU']]\n",
    "mondict[\"p0\"] = mondict[\"llh_gt\"][0]\n",
    "mondict[\"u_gt\"] = [[item['gyro_x'],item['gyro_y'],item['gyro_z'],item['acc_x'],\n",
    "                    item['acc_y'],item['acc_z']] for item in rosPickle['Base']]\n",
    "mondict[\"p_gt\"] = []\n",
    "for i in tqdm(range(len(mondict[\"llh_gt\"]))):    mondict[\"p_gt\"].append(llh2map(mondict[\"llh_gt\"][i],mondict[\"p0\"]))\n"
   ]
  },
  {
   "cell_type": "code",
   "execution_count": null,
   "metadata": {},
   "outputs": [],
   "source": [
    "GNSSdataListLLH = []\n",
    "for item in rosPickle['GNSS']:\n",
    "    # print(item)\n",
    "    lat = item['datahpposllh_lat']*1e-7+item['datahpposllh_lathp']*1e-9\n",
    "    lon = item['datahpposllh_lon']*1e-7+item['datahpposllh_lonhp']*1e-9\n",
    "    alt = item['datahpposllh_hmsl']*1e-3+item['datahpposllh_hmslhp']*1e-4\n",
    "    enu = llh2map([lat,lon,alt],mondict[\"p0\"])\n",
    "    GNSSdataListLLH.append(\n",
    "        {\n",
    "            \"time\":secNanosec2sec(item['stamp_sec'],item['stamp_nanosec']),\n",
    "            \"lat\":lat,            \"lon\":lon,            \"alt\":alt,\n",
    "            \"E\":enu[0],            \"N\":enu[1],            \"U\":enu[2],\n",
    "            \"numOfSat\":len(item['datasat_numsvs']) if type(item['datasat_numsvs'])==list else item['datasat_numsvs'],\n",
    "            \"Flag\":0.0\n",
    "        }\n",
    "    )"
   ]
  },
  {
   "cell_type": "markdown",
   "metadata": {},
   "source": [
    "### GNSS时间轴对齐(插值并标记flag)"
   ]
  },
  {
   "cell_type": "code",
   "execution_count": null,
   "metadata": {},
   "outputs": [],
   "source": [
    "srcTime = np.array([item[\"time\"] for item in GNSSdataListLLH])\n",
    "tgtTime = np.array(mondict[\"t\"])\n",
    "print('gnss src time,',srcTime)\n",
    "print('gnss tgt time,',tgtTime)\n",
    "interpolationGNSSData = {}\n",
    "for key in [\"E\",\"N\",\"U\",\"numOfSat\",\"Flag\"]:\n",
    "    keyData = np.array([item[key] for item in GNSSdataListLLH])\n",
    "    # print(keyData.shape)\n",
    "    _,interpolationGNSSData[key]=timeseriesDataInterpolation(srcTime,keyData,tgtTime)\n",
    "    \n",
    "keyData = interpolationGNSSData[\"Flag\"]\n",
    "interpolationGNSSData[\"Flag\"]=flagDataMatch(srcTime,keyData,tgtTime)"
   ]
  },
  {
   "cell_type": "code",
   "execution_count": null,
   "metadata": {},
   "outputs": [],
   "source": [
    "interpolationGNSSData[\"Flag\"][interpolationGNSSData[\"Flag\"]>0]"
   ]
  },
  {
   "cell_type": "code",
   "execution_count": null,
   "metadata": {},
   "outputs": [],
   "source": [
    "interpolationGNSSData_list = [\n",
    "    {\"E\": e, \"N\": n, \"U\": u, \"numOfSat\": sat, \"Flag\": flag}\n",
    "    for e, n, u, sat, flag in zip(\n",
    "         interpolationGNSSData[\"E\"],\n",
    "         interpolationGNSSData[\"N\"],\n",
    "         interpolationGNSSData[\"U\"],\n",
    "         interpolationGNSSData[\"numOfSat\"],\n",
    "         interpolationGNSSData[\"Flag\"],\n",
    "    )\n",
    "]"
   ]
  },
  {
   "cell_type": "code",
   "execution_count": null,
   "metadata": {},
   "outputs": [],
   "source": [
    "mondict[\"gnss\"] = [[item[\"E\"],item[\"N\"],item[\"U\"],item[\"numOfSat\"],item[\"Flag\"]] for item in interpolationGNSSData_list]"
   ]
  },
  {
   "cell_type": "markdown",
   "metadata": {},
   "source": [
    "### GNSSfeature\n"
   ]
  },
  {
   "cell_type": "code",
   "execution_count": null,
   "metadata": {},
   "outputs": [],
   "source": [
    "gnss_feature_path = \".\\\\GNSSFeature\\\\nav_db.json\"\n",
    "def GNSSfeatureReader(path):\n",
    "    with open(path,'r') as f:\n",
    "        srcData = json.load(f)\n",
    "    gnssFeatureData = []\n",
    "    for k,v in srcData['_default'].items():\n",
    "        if \"dict_gnss_feature\" in v:\n",
    "            gnssFeatureDataItem = v['dict_gnss_feature']\n",
    "            gnssFeatureDataItem['time'] = v[\"UTCTime\"]\n",
    "            gnssFeatureData.append(gnssFeatureDataItem)\n",
    "    return gnssFeatureData\n",
    "gnssFeatureData = GNSSfeatureReader(gnss_feature_path)"
   ]
  },
  {
   "cell_type": "markdown",
   "metadata": {},
   "source": [
    "### GNSS feature时间轴对齐(插值并标记flag)"
   ]
  },
  {
   "cell_type": "code",
   "execution_count": null,
   "metadata": {},
   "outputs": [],
   "source": [
    "gnssFeatureData[:2]"
   ]
  },
  {
   "cell_type": "code",
   "execution_count": null,
   "metadata": {},
   "outputs": [],
   "source": [
    "keyList = []\n",
    "for item in gnssFeatureData:    \n",
    "    for k,v in item.items():        \n",
    "        if k not in keyList:   keyList.append(k)\n",
    "if \"time\" in keyList: keyList.remove(\"time\")"
   ]
  },
  {
   "cell_type": "code",
   "execution_count": null,
   "metadata": {},
   "outputs": [],
   "source": [
    "srcTime = np.array([item[\"time\"] for item in gnssFeatureData])\n",
    "tgtTime = np.array(mondict[\"t\"])\n",
    "print('gnss fea src time,',srcTime)\n",
    "print('gnss fea tgt time,',tgtTime)\n",
    "interpolationGNSSfeatureData = {}\n",
    "for key in keyList:\n",
    "    keyData = np.array([item[key] for item in gnssFeatureData])\n",
    "    _,interpolationGNSSfeatureData[key]=timeseriesDataInterpolation(srcTime,keyData,tgtTime)"
   ]
  },
  {
   "cell_type": "markdown",
   "metadata": {},
   "source": [
    "### 图片路径保存进*.p"
   ]
  },
  {
   "cell_type": "code",
   "execution_count": null,
   "metadata": {},
   "outputs": [],
   "source": [
    "rosPickle['rosbagFilePath']"
   ]
  },
  {
   "cell_type": "code",
   "execution_count": null,
   "metadata": {},
   "outputs": [],
   "source": [
    "rosPickle['toImgPath']"
   ]
  },
  {
   "cell_type": "code",
   "execution_count": null,
   "metadata": {},
   "outputs": [],
   "source": [
    "mondict['imgPath'] = []\n",
    "for imgPathItem in rosPickle['toImgPath']:\n",
    "    imgGroupDict = {}\n",
    "    imgGroupDict['sensor'] = imgPathItem['topic']\n",
    "    imgGroupDict['basePath']  =  os.path.join(rosPickle['rosbagFilePath'],\"toImg\",imgPathItem['imgDir'])\n",
    "    imgGroupDict['path'] = []\n",
    "    for imgFileName in os.listdir(imgGroupDict['basePath']):\n",
    "        imgGroupDict['path'].append([os.path.join(imgGroupDict['basePath'],imgFileName),imgFileName2timeStamp(imgFileName),1])\n",
    "    srcTime = np.array([item[1] for item in imgGroupDict['path']])\n",
    "    tgtTime = np.array(mondict[\"t\"])\n",
    "    print(len(srcTime),len([item[0] for item in imgGroupDict['path']]),len(tgtTime))\n",
    "    print(srcTime[0],srcTime[-1],tgtTime[0],tgtTime[-1])\n",
    "    _,tgtData,flag = timeseriesDataInterpolationStr(srcTime,[item[0] for item in imgGroupDict['path']],tgtTime)\n",
    "    imgGroupDict['path'] = []\n",
    "    for i in range(len(tgtData)):\n",
    "        imgGroupDict['path'].append([tgtData[i],flag[i]])\n",
    "    mondict['imgPath'].append(imgGroupDict)\n"
   ]
  },
  {
   "cell_type": "code",
   "execution_count": null,
   "metadata": {},
   "outputs": [],
   "source": [
    "mondict[\"t\"] =  [secNanosec2sec(item['stamp_sec'],item['stamp_nanosec'])-mondict[\"t0\"] for item in rosPickle['Base']]"
   ]
  },
  {
   "cell_type": "code",
   "execution_count": null,
   "metadata": {},
   "outputs": [],
   "source": [
    "for k,v in interpolationGNSSfeatureData.items():\n",
    "    print(k,len(v))"
   ]
  },
  {
   "cell_type": "code",
   "execution_count": null,
   "metadata": {},
   "outputs": [],
   "source": [
    "\n",
    "feature_keys = [\n",
    "    'VSR_feature',     'VSR_cn0_feature',     'VSR_ele_feature', \n",
    "    'mean_cn0',     'std_cn0',     'up_qu_cn0',     'low_qu_cn0',     'cn0_elev', \n",
    "    'mean_MP',     'range_MP',     'mean_MP_elev',     'mean_elev',     'std_elev', \n",
    "    'GDOP',     'VDOP'\n",
    "]\n",
    "\n",
    "gnss_features = []\n",
    "for i in range(len(interpolationGNSSfeatureData[feature_keys[0]])):\n",
    "    feature_vector = []\n",
    "    for key in feature_keys:\n",
    "        feature_vector.append(interpolationGNSSfeatureData[key][i])\n",
    "    gnss_features.append(feature_vector)\n",
    "\n",
    "mondict[\"gnss_feature_tensor\"] = np.array(gnss_features)"
   ]
  },
  {
   "cell_type": "markdown",
   "metadata": {},
   "source": [
    "### gnss_feature"
   ]
  },
  {
   "cell_type": "code",
   "execution_count": null,
   "metadata": {},
   "outputs": [],
   "source": [
    "sum([item[-1] for item in mondict[\"gnss\"]])"
   ]
  },
  {
   "cell_type": "code",
   "execution_count": null,
   "metadata": {},
   "outputs": [],
   "source": [
    "mondict[\"gnss_feature_tensor\"]=interpolationGNSSfeatureData"
   ]
  },
  {
   "cell_type": "code",
   "execution_count": null,
   "metadata": {},
   "outputs": [],
   "source": [
    "for k,v in mondict.items():\n",
    "    print(k,type(v))\n",
    "    if type(v) == list:\n",
    "        mondict[k] = np.array(v)\n",
    "# if \"llh_gt\" in mondict: del mondict['llh_gt']"
   ]
  },
  {
   "cell_type": "code",
   "execution_count": null,
   "metadata": {},
   "outputs": [],
   "source": [
    "for k,v in mondict.items():\n",
    "    print(k,type(v))\n",
    "    try:\n",
    "        print(k,v.shape)\n",
    "    except AttributeError:\n",
    "        try:\n",
    "            print(k, len(v))\n",
    "        except TypeError:\n",
    "            print(k,v)"
   ]
  },
  {
   "cell_type": "markdown",
   "metadata": {},
   "source": [
    "### gt单位与数据处理"
   ]
  },
  {
   "cell_type": "code",
   "execution_count": null,
   "metadata": {},
   "outputs": [],
   "source": [
    "mondict['u_gt'][:,0:3] = mondict['u_gt'][:,0:3]*degree_to_rad\n",
    "mondict['u_gt'][:,3:6] = mondict['u_gt'][:,3:6]*gravity_acceleration"
   ]
  },
  {
   "cell_type": "code",
   "execution_count": null,
   "metadata": {},
   "outputs": [],
   "source": [
    "mondict['ang_gt'] = mondict['ang_gt'] * degree_to_rad"
   ]
  },
  {
   "cell_type": "code",
   "execution_count": null,
   "metadata": {},
   "outputs": [],
   "source": [
    "mondict['ang_gt'][:,2] = mondict['ang_gt'][:,2]*(-1) + 2*math.pi"
   ]
  },
  {
   "cell_type": "code",
   "execution_count": null,
   "metadata": {},
   "outputs": [],
   "source": [
    "mondict['llh_gt'][:,0] = mondict['llh_gt'][:,0] * degree_to_rad\n",
    "mondict['llh_gt'][:,1] = mondict['llh_gt'][:,1] * degree_to_rad"
   ]
  },
  {
   "cell_type": "markdown",
   "metadata": {},
   "source": [
    "### np.array 转 torch.tensor"
   ]
  },
  {
   "cell_type": "code",
   "execution_count": null,
   "metadata": {},
   "outputs": [],
   "source": [
    "for k, v in mondict.items():\n",
    "    print(k, type(v), getattr(v, \"dtype\", None))  # also check dtype\n",
    "    if isinstance(v, np.ndarray):\n",
    "        # if it's object dtype, try to coerce to float\n",
    "        if v.dtype == np.object_:\n",
    "            try:\n",
    "                v = v.astype(np.float32)  # or np.float64\n",
    "            except Exception as e:\n",
    "                print(f\"Could not cast {k}: {e}\")\n",
    "                continue\n",
    "        mondict[k] = torch.tensor(v)"
   ]
  },
  {
   "cell_type": "code",
   "execution_count": null,
   "metadata": {},
   "outputs": [],
   "source": [
    "with open(\"HIT_nav_pickle_0905kchtg.p\",\"wb\") as f:\n",
    "    pickle.dump(mondict,f)"
   ]
  },
  {
   "cell_type": "code",
   "execution_count": null,
   "metadata": {},
   "outputs": [],
   "source": []
  }
 ],
 "metadata": {
  "kernelspec": {
   "display_name": "navDataParse",
   "language": "python",
   "name": "python3"
  },
  "language_info": {
   "codemirror_mode": {
    "name": "ipython",
    "version": 3
   },
   "file_extension": ".py",
   "mimetype": "text/x-python",
   "name": "python",
   "nbconvert_exporter": "python",
   "pygments_lexer": "ipython3",
   "version": "3.10.13"
  }
 },
 "nbformat": 4,
 "nbformat_minor": 2
}
